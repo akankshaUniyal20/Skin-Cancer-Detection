{
 "cells": [
  {
   "cell_type": "markdown",
   "id": "2c70472a",
   "metadata": {},
   "source": [
    "# SKIN CANCER DETECTION"
   ]
  },
  {
   "cell_type": "markdown",
   "id": "d5af60a7",
   "metadata": {},
   "source": [
    "# Loading Dataset"
   ]
  },
  {
   "cell_type": "code",
   "execution_count": 3,
   "id": "abd24d32",
   "metadata": {
    "id": "abd24d32"
   },
   "outputs": [],
   "source": [
    "import pandas as pd\n",
    "import numpy as np\n",
    "import tensorflow as tf\n",
    "import matplotlib.pyplot as plt\n",
    "from sklearn.preprocessing import LabelEncoder\n",
    "from sklearn.model_selection import train_test_split\n",
    "from keras.utils.np_utils import to_categorical\n",
    "from tensorflow.keras.preprocessing.image import ImageDataGenerator\n",
    "from keras.models import Sequential\n",
    "from keras.layers import Dense , Conv2D, MaxPool2D , Flatten , Dropout\n",
    "import keras\n",
    "import os"
   ]
  },
  {
   "cell_type": "code",
   "execution_count": 2,
   "id": "XgkBC3jb-4tb",
   "metadata": {
    "id": "XgkBC3jb-4tb"
   },
   "outputs": [],
   "source": [
    "file_csv =\"D:\\\\Downloads\\\\dataset\\\\data\\\\HAM10000_metadata.csv\"\n",
    "imgs_path = \"D:\\\\Downloads\\\\dataset\\\\data\\\\Skin Cancer\\\\Skin Cancer\""
   ]
  },
  {
   "cell_type": "code",
   "execution_count": 4,
   "id": "f7bf39bf",
   "metadata": {
    "id": "f7bf39bf"
   },
   "outputs": [],
   "source": [
    "df = pd.read_csv(file_csv)"
   ]
  },
  {
   "cell_type": "code",
   "execution_count": 5,
   "id": "31062e9b",
   "metadata": {
    "colab": {
     "base_uri": "https://localhost:8080/",
     "height": 206
    },
    "id": "31062e9b",
    "outputId": "d33c2f3e-7b49-4f18-a925-f251f2912ab4"
   },
   "outputs": [
    {
     "data": {
      "text/html": [
       "<div>\n",
       "<style scoped>\n",
       "    .dataframe tbody tr th:only-of-type {\n",
       "        vertical-align: middle;\n",
       "    }\n",
       "\n",
       "    .dataframe tbody tr th {\n",
       "        vertical-align: top;\n",
       "    }\n",
       "\n",
       "    .dataframe thead th {\n",
       "        text-align: right;\n",
       "    }\n",
       "</style>\n",
       "<table border=\"1\" class=\"dataframe\">\n",
       "  <thead>\n",
       "    <tr style=\"text-align: right;\">\n",
       "      <th></th>\n",
       "      <th>image_id</th>\n",
       "      <th>dx</th>\n",
       "    </tr>\n",
       "  </thead>\n",
       "  <tbody>\n",
       "    <tr>\n",
       "      <th>0</th>\n",
       "      <td>ISIC_0027419</td>\n",
       "      <td>bkl</td>\n",
       "    </tr>\n",
       "    <tr>\n",
       "      <th>1</th>\n",
       "      <td>ISIC_0025030</td>\n",
       "      <td>bkl</td>\n",
       "    </tr>\n",
       "    <tr>\n",
       "      <th>2</th>\n",
       "      <td>ISIC_0026769</td>\n",
       "      <td>bkl</td>\n",
       "    </tr>\n",
       "    <tr>\n",
       "      <th>3</th>\n",
       "      <td>ISIC_0025661</td>\n",
       "      <td>bkl</td>\n",
       "    </tr>\n",
       "    <tr>\n",
       "      <th>4</th>\n",
       "      <td>ISIC_0031633</td>\n",
       "      <td>bkl</td>\n",
       "    </tr>\n",
       "  </tbody>\n",
       "</table>\n",
       "</div>"
      ],
      "text/plain": [
       "       image_id   dx\n",
       "0  ISIC_0027419  bkl\n",
       "1  ISIC_0025030  bkl\n",
       "2  ISIC_0026769  bkl\n",
       "3  ISIC_0025661  bkl\n",
       "4  ISIC_0031633  bkl"
      ]
     },
     "execution_count": 5,
     "metadata": {},
     "output_type": "execute_result"
    }
   ],
   "source": [
    "df.drop(['lesion_id','dx_type','age','sex','localization'],axis = 1,inplace = True)\n",
    "df.head(5)"
   ]
  },
  {
   "cell_type": "code",
   "execution_count": 6,
   "id": "vxd95FZgHucK",
   "metadata": {
    "id": "vxd95FZgHucK"
   },
   "outputs": [],
   "source": [
    "dir = imgs_path\n",
    "id = [x.split('.')[0] for x in os.listdir(dir)]\n",
    "image_path = {x:os.path.join(dir,f'{x}.jpg') for x in id}"
   ]
  },
  {
   "cell_type": "code",
   "execution_count": 7,
   "id": "d5c2c940",
   "metadata": {},
   "outputs": [
    {
     "data": {
      "text/plain": [
       "10015"
      ]
     },
     "execution_count": 7,
     "metadata": {},
     "output_type": "execute_result"
    }
   ],
   "source": [
    "len(image_path)"
   ]
  },
  {
   "cell_type": "code",
   "execution_count": 8,
   "id": "603e8500",
   "metadata": {},
   "outputs": [
    {
     "data": {
      "text/html": [
       "<div>\n",
       "<style scoped>\n",
       "    .dataframe tbody tr th:only-of-type {\n",
       "        vertical-align: middle;\n",
       "    }\n",
       "\n",
       "    .dataframe tbody tr th {\n",
       "        vertical-align: top;\n",
       "    }\n",
       "\n",
       "    .dataframe thead th {\n",
       "        text-align: right;\n",
       "    }\n",
       "</style>\n",
       "<table border=\"1\" class=\"dataframe\">\n",
       "  <thead>\n",
       "    <tr style=\"text-align: right;\">\n",
       "      <th></th>\n",
       "      <th>image_id</th>\n",
       "      <th>dx</th>\n",
       "      <th>path</th>\n",
       "    </tr>\n",
       "  </thead>\n",
       "  <tbody>\n",
       "    <tr>\n",
       "      <th>0</th>\n",
       "      <td>ISIC_0027419</td>\n",
       "      <td>bkl</td>\n",
       "      <td>D:\\Downloads\\dataset\\data\\Skin Cancer\\Skin Can...</td>\n",
       "    </tr>\n",
       "    <tr>\n",
       "      <th>1</th>\n",
       "      <td>ISIC_0025030</td>\n",
       "      <td>bkl</td>\n",
       "      <td>D:\\Downloads\\dataset\\data\\Skin Cancer\\Skin Can...</td>\n",
       "    </tr>\n",
       "    <tr>\n",
       "      <th>2</th>\n",
       "      <td>ISIC_0026769</td>\n",
       "      <td>bkl</td>\n",
       "      <td>D:\\Downloads\\dataset\\data\\Skin Cancer\\Skin Can...</td>\n",
       "    </tr>\n",
       "    <tr>\n",
       "      <th>3</th>\n",
       "      <td>ISIC_0025661</td>\n",
       "      <td>bkl</td>\n",
       "      <td>D:\\Downloads\\dataset\\data\\Skin Cancer\\Skin Can...</td>\n",
       "    </tr>\n",
       "    <tr>\n",
       "      <th>4</th>\n",
       "      <td>ISIC_0031633</td>\n",
       "      <td>bkl</td>\n",
       "      <td>D:\\Downloads\\dataset\\data\\Skin Cancer\\Skin Can...</td>\n",
       "    </tr>\n",
       "  </tbody>\n",
       "</table>\n",
       "</div>"
      ],
      "text/plain": [
       "       image_id   dx                                               path\n",
       "0  ISIC_0027419  bkl  D:\\Downloads\\dataset\\data\\Skin Cancer\\Skin Can...\n",
       "1  ISIC_0025030  bkl  D:\\Downloads\\dataset\\data\\Skin Cancer\\Skin Can...\n",
       "2  ISIC_0026769  bkl  D:\\Downloads\\dataset\\data\\Skin Cancer\\Skin Can...\n",
       "3  ISIC_0025661  bkl  D:\\Downloads\\dataset\\data\\Skin Cancer\\Skin Can...\n",
       "4  ISIC_0031633  bkl  D:\\Downloads\\dataset\\data\\Skin Cancer\\Skin Can..."
      ]
     },
     "execution_count": 8,
     "metadata": {},
     "output_type": "execute_result"
    }
   ],
   "source": [
    "df['path'] = df.image_id.map(image_path.get)\n",
    "df.head()"
   ]
  },
  {
   "cell_type": "code",
   "execution_count": 9,
   "id": "71b1c3d5",
   "metadata": {
    "colab": {
     "base_uri": "https://localhost:8080/"
    },
    "id": "71b1c3d5",
    "outputId": "2171f5a2-ab25-4a55-ddc0-c450a0b3c656",
    "scrolled": true
   },
   "outputs": [
    {
     "data": {
      "text/plain": [
       "nv       6705\n",
       "mel      1113\n",
       "bkl      1099\n",
       "bcc       514\n",
       "akiec     327\n",
       "vasc      142\n",
       "df        115\n",
       "Name: dx, dtype: int64"
      ]
     },
     "execution_count": 9,
     "metadata": {},
     "output_type": "execute_result"
    }
   ],
   "source": [
    "le = LabelEncoder()\n",
    "df['label'] = le.fit_transform(df.dx)\n",
    "df.dx.value_counts()"
   ]
  },
  {
   "cell_type": "code",
   "execution_count": 10,
   "id": "1a3a6957",
   "metadata": {},
   "outputs": [
    {
     "data": {
      "text/html": [
       "<div>\n",
       "<style scoped>\n",
       "    .dataframe tbody tr th:only-of-type {\n",
       "        vertical-align: middle;\n",
       "    }\n",
       "\n",
       "    .dataframe tbody tr th {\n",
       "        vertical-align: top;\n",
       "    }\n",
       "\n",
       "    .dataframe thead th {\n",
       "        text-align: right;\n",
       "    }\n",
       "</style>\n",
       "<table border=\"1\" class=\"dataframe\">\n",
       "  <thead>\n",
       "    <tr style=\"text-align: right;\">\n",
       "      <th></th>\n",
       "      <th>image_id</th>\n",
       "      <th>dx</th>\n",
       "      <th>path</th>\n",
       "      <th>label</th>\n",
       "    </tr>\n",
       "  </thead>\n",
       "  <tbody>\n",
       "    <tr>\n",
       "      <th>0</th>\n",
       "      <td>ISIC_0027419</td>\n",
       "      <td>bkl</td>\n",
       "      <td>D:\\Downloads\\dataset\\data\\Skin Cancer\\Skin Can...</td>\n",
       "      <td>2</td>\n",
       "    </tr>\n",
       "    <tr>\n",
       "      <th>1</th>\n",
       "      <td>ISIC_0025030</td>\n",
       "      <td>bkl</td>\n",
       "      <td>D:\\Downloads\\dataset\\data\\Skin Cancer\\Skin Can...</td>\n",
       "      <td>2</td>\n",
       "    </tr>\n",
       "    <tr>\n",
       "      <th>2</th>\n",
       "      <td>ISIC_0026769</td>\n",
       "      <td>bkl</td>\n",
       "      <td>D:\\Downloads\\dataset\\data\\Skin Cancer\\Skin Can...</td>\n",
       "      <td>2</td>\n",
       "    </tr>\n",
       "    <tr>\n",
       "      <th>3</th>\n",
       "      <td>ISIC_0025661</td>\n",
       "      <td>bkl</td>\n",
       "      <td>D:\\Downloads\\dataset\\data\\Skin Cancer\\Skin Can...</td>\n",
       "      <td>2</td>\n",
       "    </tr>\n",
       "    <tr>\n",
       "      <th>4</th>\n",
       "      <td>ISIC_0031633</td>\n",
       "      <td>bkl</td>\n",
       "      <td>D:\\Downloads\\dataset\\data\\Skin Cancer\\Skin Can...</td>\n",
       "      <td>2</td>\n",
       "    </tr>\n",
       "  </tbody>\n",
       "</table>\n",
       "</div>"
      ],
      "text/plain": [
       "       image_id   dx                                               path  label\n",
       "0  ISIC_0027419  bkl  D:\\Downloads\\dataset\\data\\Skin Cancer\\Skin Can...      2\n",
       "1  ISIC_0025030  bkl  D:\\Downloads\\dataset\\data\\Skin Cancer\\Skin Can...      2\n",
       "2  ISIC_0026769  bkl  D:\\Downloads\\dataset\\data\\Skin Cancer\\Skin Can...      2\n",
       "3  ISIC_0025661  bkl  D:\\Downloads\\dataset\\data\\Skin Cancer\\Skin Can...      2\n",
       "4  ISIC_0031633  bkl  D:\\Downloads\\dataset\\data\\Skin Cancer\\Skin Can...      2"
      ]
     },
     "execution_count": 10,
     "metadata": {},
     "output_type": "execute_result"
    }
   ],
   "source": [
    "df.head(5)"
   ]
  },
  {
   "cell_type": "code",
   "execution_count": 11,
   "id": "09f9d18a",
   "metadata": {},
   "outputs": [],
   "source": [
    "label = {0:'Actinic Keratoses',1:'basal',2:'benign',3:'dermatofibroma',4:'melanoma',5:'melanocytic nevi',6:'vascular lesions'}\n",
    "df['label'].replace(label, inplace=True)"
   ]
  },
  {
   "cell_type": "code",
   "execution_count": 12,
   "id": "f3283e3f",
   "metadata": {},
   "outputs": [],
   "source": [
    "le = LabelEncoder()\n",
    "df['dx'] = le.fit_transform(df.dx)"
   ]
  },
  {
   "cell_type": "code",
   "execution_count": 13,
   "id": "d6ade57e",
   "metadata": {},
   "outputs": [
    {
     "data": {
      "text/html": [
       "<div>\n",
       "<style scoped>\n",
       "    .dataframe tbody tr th:only-of-type {\n",
       "        vertical-align: middle;\n",
       "    }\n",
       "\n",
       "    .dataframe tbody tr th {\n",
       "        vertical-align: top;\n",
       "    }\n",
       "\n",
       "    .dataframe thead th {\n",
       "        text-align: right;\n",
       "    }\n",
       "</style>\n",
       "<table border=\"1\" class=\"dataframe\">\n",
       "  <thead>\n",
       "    <tr style=\"text-align: right;\">\n",
       "      <th></th>\n",
       "      <th>image_id</th>\n",
       "      <th>dx</th>\n",
       "      <th>path</th>\n",
       "      <th>label</th>\n",
       "    </tr>\n",
       "  </thead>\n",
       "  <tbody>\n",
       "    <tr>\n",
       "      <th>0</th>\n",
       "      <td>ISIC_0027419</td>\n",
       "      <td>2</td>\n",
       "      <td>D:\\Downloads\\dataset\\data\\Skin Cancer\\Skin Can...</td>\n",
       "      <td>benign</td>\n",
       "    </tr>\n",
       "    <tr>\n",
       "      <th>1</th>\n",
       "      <td>ISIC_0025030</td>\n",
       "      <td>2</td>\n",
       "      <td>D:\\Downloads\\dataset\\data\\Skin Cancer\\Skin Can...</td>\n",
       "      <td>benign</td>\n",
       "    </tr>\n",
       "    <tr>\n",
       "      <th>2</th>\n",
       "      <td>ISIC_0026769</td>\n",
       "      <td>2</td>\n",
       "      <td>D:\\Downloads\\dataset\\data\\Skin Cancer\\Skin Can...</td>\n",
       "      <td>benign</td>\n",
       "    </tr>\n",
       "    <tr>\n",
       "      <th>3</th>\n",
       "      <td>ISIC_0025661</td>\n",
       "      <td>2</td>\n",
       "      <td>D:\\Downloads\\dataset\\data\\Skin Cancer\\Skin Can...</td>\n",
       "      <td>benign</td>\n",
       "    </tr>\n",
       "    <tr>\n",
       "      <th>4</th>\n",
       "      <td>ISIC_0031633</td>\n",
       "      <td>2</td>\n",
       "      <td>D:\\Downloads\\dataset\\data\\Skin Cancer\\Skin Can...</td>\n",
       "      <td>benign</td>\n",
       "    </tr>\n",
       "  </tbody>\n",
       "</table>\n",
       "</div>"
      ],
      "text/plain": [
       "       image_id  dx                                               path   label\n",
       "0  ISIC_0027419   2  D:\\Downloads\\dataset\\data\\Skin Cancer\\Skin Can...  benign\n",
       "1  ISIC_0025030   2  D:\\Downloads\\dataset\\data\\Skin Cancer\\Skin Can...  benign\n",
       "2  ISIC_0026769   2  D:\\Downloads\\dataset\\data\\Skin Cancer\\Skin Can...  benign\n",
       "3  ISIC_0025661   2  D:\\Downloads\\dataset\\data\\Skin Cancer\\Skin Can...  benign\n",
       "4  ISIC_0031633   2  D:\\Downloads\\dataset\\data\\Skin Cancer\\Skin Can...  benign"
      ]
     },
     "execution_count": 13,
     "metadata": {},
     "output_type": "execute_result"
    }
   ],
   "source": [
    "df.head(5)"
   ]
  },
  {
   "cell_type": "markdown",
   "id": "de9a1606",
   "metadata": {},
   "source": [
    "# Data Visualization"
   ]
  },
  {
   "cell_type": "code",
   "execution_count": 14,
   "id": "d9ead907",
   "metadata": {},
   "outputs": [
    {
     "data": {
      "text/plain": [
       "(array([0, 1, 2, 3, 4, 5, 6]),\n",
       " [Text(0, 0, 'melanocytic nevi'),\n",
       "  Text(1, 0, 'melanoma'),\n",
       "  Text(2, 0, 'benign'),\n",
       "  Text(3, 0, 'basal'),\n",
       "  Text(4, 0, 'Actinic Keratoses'),\n",
       "  Text(5, 0, 'vascular lesions'),\n",
       "  Text(6, 0, 'dermatofibroma')])"
      ]
     },
     "execution_count": 14,
     "metadata": {},
     "output_type": "execute_result"
    },
    {
     "data": {
      "image/png": "[encoded data removed]",
      "text/plain": [
       "<Figure size 640x480 with 1 Axes>"
      ]
     },
     "metadata": {},
     "output_type": "display_data"
    }
   ],
   "source": [
    "#plotting bar graph of data to measure the count of images\n",
    "counts = df.label.value_counts()\n",
    "sns.barplot(x=counts.index,y=counts)\n",
    "plt.xlabel('Type')\n",
    "plt.xticks(rotation=90)"
   ]
  },
  {
   "cell_type": "code",
   "execution_count": 15,
   "id": "6cb447fc",
   "metadata": {},
   "outputs": [
    {
     "data": {
      "text/plain": [
       "(10015, 450, 600)"
      ]
     },
     "execution_count": 15,
     "metadata": {},
     "output_type": "execute_result"
    }
   ],
   "source": [
    "import cv2\n",
    "images = []\n",
    "paths=df['path']\n",
    "for i in np.arange(len(paths)):\n",
    "    images.append(cv2.cvtColor(plt.imread(paths[i]),cv2.COLOR_BGR2GRAY))\n",
    "\n",
    "np.array(images).shape"
   ]
  },
  {
   "cell_type": "code",
   "execution_count": 16,
   "id": "QjSGw9BTo34V",
   "metadata": {
    "id": "QjSGw9BTo34V"
   },
   "outputs": [],
   "source": [
    "from PIL import Image"
   ]
  },
  {
   "cell_type": "code",
   "execution_count": 17,
   "id": "-3D9VxNPozgX",
   "metadata": {
    "id": "-3D9VxNPozgX"
   },
   "outputs": [],
   "source": [
    "# Adding image pixels\n",
    "df['image_pixel'] = df['path'].map(lambda x: np.asarray(Image.open(x).resize((28,28))))"
   ]
  },
  {
   "cell_type": "code",
   "execution_count": 18,
   "id": "AjVTmThZozc7",
   "metadata": {
    "colab": {
     "base_uri": "https://localhost:8080/",
     "height": 206
    },
    "id": "AjVTmThZozc7",
    "outputId": "c7a73d2a-7cd6-4693-eb46-f5d808ebea3a"
   },
   "outputs": [
    {
     "data": {
      "text/html": [
       "<div>\n",
       "<style scoped>\n",
       "    .dataframe tbody tr th:only-of-type {\n",
       "        vertical-align: middle;\n",
       "    }\n",
       "\n",
       "    .dataframe tbody tr th {\n",
       "        vertical-align: top;\n",
       "    }\n",
       "\n",
       "    .dataframe thead th {\n",
       "        text-align: right;\n",
       "    }\n",
       "</style>\n",
       "<table border=\"1\" class=\"dataframe\">\n",
       "  <thead>\n",
       "    <tr style=\"text-align: right;\">\n",
       "      <th></th>\n",
       "      <th>image_id</th>\n",
       "      <th>dx</th>\n",
       "      <th>path</th>\n",
       "      <th>label</th>\n",
       "      <th>image_pixel</th>\n",
       "    </tr>\n",
       "  </thead>\n",
       "  <tbody>\n",
       "    <tr>\n",
       "      <th>0</th>\n",
       "      <td>ISIC_0027419</td>\n",
       "      <td>2</td>\n",
       "      <td>D:\\Downloads\\dataset\\data\\Skin Cancer\\Skin Can...</td>\n",
       "      <td>benign</td>\n",
       "      <td>[[[192, 153, 193], [195, 155, 192], [197, 154,...</td>\n",
       "    </tr>\n",
       "    <tr>\n",
       "      <th>1</th>\n",
       "      <td>ISIC_0025030</td>\n",
       "      <td>2</td>\n",
       "      <td>D:\\Downloads\\dataset\\data\\Skin Cancer\\Skin Can...</td>\n",
       "      <td>benign</td>\n",
       "      <td>[[[27, 16, 32], [69, 49, 76], [122, 93, 126], ...</td>\n",
       "    </tr>\n",
       "    <tr>\n",
       "      <th>2</th>\n",
       "      <td>ISIC_0026769</td>\n",
       "      <td>2</td>\n",
       "      <td>D:\\Downloads\\dataset\\data\\Skin Cancer\\Skin Can...</td>\n",
       "      <td>benign</td>\n",
       "      <td>[[[192, 138, 153], [200, 144, 162], [202, 142,...</td>\n",
       "    </tr>\n",
       "    <tr>\n",
       "      <th>3</th>\n",
       "      <td>ISIC_0025661</td>\n",
       "      <td>2</td>\n",
       "      <td>D:\\Downloads\\dataset\\data\\Skin Cancer\\Skin Can...</td>\n",
       "      <td>benign</td>\n",
       "      <td>[[[40, 21, 31], [95, 61, 73], [143, 102, 118],...</td>\n",
       "    </tr>\n",
       "    <tr>\n",
       "      <th>4</th>\n",
       "      <td>ISIC_0031633</td>\n",
       "      <td>2</td>\n",
       "      <td>D:\\Downloads\\dataset\\data\\Skin Cancer\\Skin Can...</td>\n",
       "      <td>benign</td>\n",
       "      <td>[[[159, 114, 140], [194, 144, 173], [215, 162,...</td>\n",
       "    </tr>\n",
       "  </tbody>\n",
       "</table>\n",
       "</div>"
      ],
      "text/plain": [
       "       image_id  dx                                               path  \\\n",
       "0  ISIC_0027419   2  D:\\Downloads\\dataset\\data\\Skin Cancer\\Skin Can...   \n",
       "1  ISIC_0025030   2  D:\\Downloads\\dataset\\data\\Skin Cancer\\Skin Can...   \n",
       "2  ISIC_0026769   2  D:\\Downloads\\dataset\\data\\Skin Cancer\\Skin Can...   \n",
       "3  ISIC_0025661   2  D:\\Downloads\\dataset\\data\\Skin Cancer\\Skin Can...   \n",
       "4  ISIC_0031633   2  D:\\Downloads\\dataset\\data\\Skin Cancer\\Skin Can...   \n",
       "\n",
       "    label                                        image_pixel  \n",
       "0  benign  [[[192, 153, 193], [195, 155, 192], [197, 154,...  \n",
       "1  benign  [[[27, 16, 32], [69, 49, 76], [122, 93, 126], ...  \n",
       "2  benign  [[[192, 138, 153], [200, 144, 162], [202, 142,...  \n",
       "3  benign  [[[40, 21, 31], [95, 61, 73], [143, 102, 118],...  \n",
       "4  benign  [[[159, 114, 140], [194, 144, 173], [215, 162,...  "
      ]
     },
     "execution_count": 18,
     "metadata": {},
     "output_type": "execute_result"
    }
   ],
   "source": [
    "df.head()"
   ]
  },
  {
   "cell_type": "code",
   "execution_count": 19,
   "id": "bRXelW2p4AEE",
   "metadata": {
    "id": "bRXelW2p4AEE"
   },
   "outputs": [],
   "source": [
    "img_pix = df['image_pixel']"
   ]
  },
  {
   "cell_type": "code",
   "execution_count": 20,
   "id": "ADoA2QFP-4DV",
   "metadata": {
    "colab": {
     "base_uri": "https://localhost:8080/"
    },
    "id": "ADoA2QFP-4DV",
    "outputId": "f3d6eced-78c6-4925-ecf7-c7a56463e545"
   },
   "outputs": [
    {
     "data": {
      "text/plain": [
       "0        [[[192, 153, 193], [195, 155, 192], [197, 154,...\n",
       "1        [[[27, 16, 32], [69, 49, 76], [122, 93, 126], ...\n",
       "2        [[[192, 138, 153], [200, 144, 162], [202, 142,...\n",
       "3        [[[40, 21, 31], [95, 61, 73], [143, 102, 118],...\n",
       "4        [[[159, 114, 140], [194, 144, 173], [215, 162,...\n",
       "                               ...                        \n",
       "10010    [[[183, 166, 182], [183, 165, 181], [184, 167,...\n",
       "10011    [[[3, 4, 2], [41, 36, 35], [119, 103, 102], [1...\n",
       "10012    [[[134, 120, 120], [166, 148, 149], [175, 155,...\n",
       "10013    [[[160, 124, 145], [164, 131, 151], [166, 127,...\n",
       "10014    [[[175, 142, 121], [180, 149, 133], [181, 149,...\n",
       "Name: image_pixel, Length: 10015, dtype: object"
      ]
     },
     "execution_count": 20,
     "metadata": {},
     "output_type": "execute_result"
    }
   ],
   "source": [
    "img_pix"
   ]
  },
  {
   "cell_type": "code",
   "execution_count": 21,
   "id": "H2xPLKvW-Nir",
   "metadata": {
    "colab": {
     "base_uri": "https://localhost:8080/"
    },
    "id": "H2xPLKvW-Nir",
    "outputId": "8e2e0aa2-b62c-43f6-fe19-7b1774d5d7b4"
   },
   "outputs": [
    {
     "data": {
      "text/plain": [
       "(10015,)"
      ]
     },
     "execution_count": 21,
     "metadata": {},
     "output_type": "execute_result"
    }
   ],
   "source": [
    "img_pix.shape"
   ]
  },
  {
   "cell_type": "code",
   "execution_count": 22,
   "id": "2th-T4-i_SVk",
   "metadata": {
    "id": "2th-T4-i_SVk"
   },
   "outputs": [],
   "source": [
    "image_array = np.array(img_pix.tolist())"
   ]
  },
  {
   "cell_type": "code",
   "execution_count": 23,
   "id": "DTe124jQ_U8L",
   "metadata": {
    "colab": {
     "base_uri": "https://localhost:8080/"
    },
    "id": "DTe124jQ_U8L",
    "outputId": "768fdf76-0e81-4a0f-e03c-f279ed01cbf5"
   },
   "outputs": [
    {
     "data": {
      "text/plain": [
       "(10015, 28, 28, 3)"
      ]
     },
     "execution_count": 23,
     "metadata": {},
     "output_type": "execute_result"
    }
   ],
   "source": [
    "image_array.shape"
   ]
  },
  {
   "cell_type": "code",
   "execution_count": 24,
   "id": "RFjuJ2EpBVmZ",
   "metadata": {
    "id": "RFjuJ2EpBVmZ"
   },
   "outputs": [
    {
     "data": {
      "text/plain": [
       "array([[[[192, 153, 193],\n",
       "         [195, 155, 192],\n",
       "         [197, 154, 185],\n",
       "         ...,\n",
       "         [193, 145, 154],\n",
       "         [197, 154, 163],\n",
       "         [194, 152, 160]],\n",
       "\n",
       "        [[197, 162, 201],\n",
       "         [200, 160, 196],\n",
       "         [201, 160, 192],\n",
       "         ...,\n",
       "         [194, 147, 150],\n",
       "         [198, 157, 166],\n",
       "         [193, 153, 168]],\n",
       "\n",
       "        [[197, 155, 192],\n",
       "         [198, 154, 185],\n",
       "         [202, 157, 191],\n",
       "         ...,\n",
       "         [194, 149, 153],\n",
       "         [198, 159, 175],\n",
       "         [194, 156, 175]],\n",
       "\n",
       "        ...,\n",
       "\n",
       "        [[194, 158, 192],\n",
       "         [205, 171, 205],\n",
       "         [205, 165, 191],\n",
       "         ...,\n",
       "         [190, 153, 180],\n",
       "         [193, 159, 187],\n",
       "         [193, 162, 196]],\n",
       "\n",
       "        [[187, 154, 185],\n",
       "         [202, 170, 198],\n",
       "         [201, 161, 183],\n",
       "         ...,\n",
       "         [178, 132, 149],\n",
       "         [187, 151, 174],\n",
       "         [190, 159, 189]],\n",
       "\n",
       "        [[172, 137, 166],\n",
       "         [191, 153, 179],\n",
       "         [196, 154, 175],\n",
       "         ...,\n",
       "         [174, 125, 139],\n",
       "         [183, 146, 165],\n",
       "         [185, 154, 177]]],\n",
       "\n",
       "\n",
       "       [[[ 27,  16,  32],\n",
       "         [ 69,  49,  76],\n",
       "         [122,  93, 126],\n",
       "         ...,\n",
       "         [123,  91,  98],\n",
       "         [ 80,  54,  75],\n",
       "         [ 60,  37,  62]],\n",
       "\n",
       "        [[ 43,  29,  50],\n",
       "         [ 96,  70,  97],\n",
       "         [143, 110, 144],\n",
       "         ...,\n",
       "         [140, 107, 111],\n",
       "         [ 98,  69,  78],\n",
       "         [ 64,  41,  64]],\n",
       "\n",
       "        [[ 68,  48,  69],\n",
       "         [120,  88, 110],\n",
       "         [159, 119, 154],\n",
       "         ...,\n",
       "         [159, 126, 136],\n",
       "         [121,  93, 101],\n",
       "         [ 78,  55,  75]],\n",
       "\n",
       "        ...,\n",
       "\n",
       "        [[ 64,  41,  67],\n",
       "         [ 97,  69,  93],\n",
       "         [140, 107, 125],\n",
       "         ...,\n",
       "         [121,  82,  85],\n",
       "         [ 71,  49,  63],\n",
       "         [ 27,  16,  32]],\n",
       "\n",
       "        [[ 61,  38,  62],\n",
       "         [ 76,  51,  80],\n",
       "         [116,  82, 107],\n",
       "         ...,\n",
       "         [ 90,  58,  64],\n",
       "         [ 39,  22,  35],\n",
       "         [ 23,  12,  26]],\n",
       "\n",
       "        [[ 64,  40,  62],\n",
       "         [ 66,  42,  68],\n",
       "         [ 93,  63,  91],\n",
       "         ...,\n",
       "         [ 61,  40,  54],\n",
       "         [ 26,  15,  29],\n",
       "         [ 25,  14,  26]]],\n",
       "\n",
       "\n",
       "       [[[192, 138, 153],\n",
       "         [200, 144, 162],\n",
       "         [202, 142, 161],\n",
       "         ...,\n",
       "         [180, 130, 145],\n",
       "         [167, 123, 141],\n",
       "         [144, 103, 119]],\n",
       "\n",
       "        [[199, 146, 161],\n",
       "         [202, 145, 166],\n",
       "         [205, 147, 170],\n",
       "         ...,\n",
       "         [190, 139, 157],\n",
       "         [179, 135, 158],\n",
       "         [157, 115, 134]],\n",
       "\n",
       "        [[200, 148, 169],\n",
       "         [206, 150, 170],\n",
       "         [208, 146, 167],\n",
       "         ...,\n",
       "         [198, 147, 171],\n",
       "         [189, 141, 167],\n",
       "         [167, 123, 143]],\n",
       "\n",
       "        ...,\n",
       "\n",
       "        [[200, 142, 164],\n",
       "         [196, 137, 139],\n",
       "         [191, 125, 114],\n",
       "         ...,\n",
       "         [200, 154, 180],\n",
       "         [185, 141, 162],\n",
       "         [165, 130, 143]],\n",
       "\n",
       "        [[195, 137, 153],\n",
       "         [194, 132, 136],\n",
       "         [191, 127, 119],\n",
       "         ...,\n",
       "         [183, 140, 157],\n",
       "         [169, 130, 147],\n",
       "         [151, 116, 131]],\n",
       "\n",
       "        [[192, 133, 143],\n",
       "         [195, 135, 144],\n",
       "         [194, 131, 135],\n",
       "         ...,\n",
       "         [168, 130, 144],\n",
       "         [158, 123, 141],\n",
       "         [137, 104, 118]]],\n",
       "\n",
       "\n",
       "       ...,\n",
       "\n",
       "\n",
       "       [[[134, 120, 120],\n",
       "         [166, 148, 149],\n",
       "         [175, 155, 159],\n",
       "         ...,\n",
       "         [194, 170, 166],\n",
       "         [157, 136, 126],\n",
       "         [127, 112, 102]],\n",
       "\n",
       "        [[150, 133, 134],\n",
       "         [187, 170, 178],\n",
       "         [190, 172, 181],\n",
       "         ...,\n",
       "         [206, 184, 184],\n",
       "         [155, 135, 126],\n",
       "         [142, 126, 116]],\n",
       "\n",
       "        [[168, 151, 155],\n",
       "         [197, 179, 189],\n",
       "         [199, 182, 192],\n",
       "         ...,\n",
       "         [216, 195, 196],\n",
       "         [161, 141, 135],\n",
       "         [156, 140, 132]],\n",
       "\n",
       "        ...,\n",
       "\n",
       "        [[190, 169, 175],\n",
       "         [195, 174, 176],\n",
       "         [217, 194, 201],\n",
       "         ...,\n",
       "         [198, 177, 171],\n",
       "         [185, 164, 156],\n",
       "         [194, 174, 170]],\n",
       "\n",
       "        [[189, 172, 181],\n",
       "         [195, 173, 175],\n",
       "         [209, 187, 189],\n",
       "         ...,\n",
       "         [203, 182, 178],\n",
       "         [189, 167, 162],\n",
       "         [187, 167, 163]],\n",
       "\n",
       "        [[179, 162, 170],\n",
       "         [200, 179, 185],\n",
       "         [207, 183, 182],\n",
       "         ...,\n",
       "         [203, 180, 178],\n",
       "         [181, 159, 153],\n",
       "         [174, 154, 148]]],\n",
       "\n",
       "\n",
       "       [[[160, 124, 145],\n",
       "         [164, 131, 151],\n",
       "         [166, 127, 145],\n",
       "         ...,\n",
       "         [184, 157, 162],\n",
       "         [185, 158, 165],\n",
       "         [184, 163, 171]],\n",
       "\n",
       "        [[160, 118, 137],\n",
       "         [162, 120, 139],\n",
       "         [166, 118, 138],\n",
       "         ...,\n",
       "         [188, 159, 168],\n",
       "         [185, 158, 167],\n",
       "         [181, 152, 160]],\n",
       "\n",
       "        [[164, 122, 142],\n",
       "         [164, 117, 136],\n",
       "         [169, 119, 139],\n",
       "         ...,\n",
       "         [191, 164, 177],\n",
       "         [190, 169, 180],\n",
       "         [188, 166, 175]],\n",
       "\n",
       "        ...,\n",
       "\n",
       "        [[168, 116, 141],\n",
       "         [172, 125, 148],\n",
       "         [178, 143, 163],\n",
       "         ...,\n",
       "         [189, 163, 175],\n",
       "         [190, 172, 184],\n",
       "         [185, 162, 174]],\n",
       "\n",
       "        [[169, 127, 149],\n",
       "         [168, 114, 136],\n",
       "         [175, 134, 154],\n",
       "         ...,\n",
       "         [189, 173, 181],\n",
       "         [187, 167, 178],\n",
       "         [189, 172, 183]],\n",
       "\n",
       "        [[167, 119, 142],\n",
       "         [173, 134, 154],\n",
       "         [174, 138, 155],\n",
       "         ...,\n",
       "         [185, 163, 168],\n",
       "         [185, 157, 167],\n",
       "         [185, 162, 172]]],\n",
       "\n",
       "\n",
       "       [[[175, 142, 121],\n",
       "         [180, 149, 133],\n",
       "         [181, 149, 133],\n",
       "         ...,\n",
       "         [190, 163, 161],\n",
       "         [193, 167, 168],\n",
       "         [185, 156, 154]],\n",
       "\n",
       "        [[179, 148, 129],\n",
       "         [179, 146, 128],\n",
       "         [180, 149, 130],\n",
       "         ...,\n",
       "         [187, 159, 154],\n",
       "         [188, 160, 157],\n",
       "         [185, 156, 152]],\n",
       "\n",
       "        [[180, 149, 130],\n",
       "         [179, 149, 128],\n",
       "         [176, 141, 118],\n",
       "         ...,\n",
       "         [182, 150, 135],\n",
       "         [184, 155, 146],\n",
       "         [183, 152, 140]],\n",
       "\n",
       "        ...,\n",
       "\n",
       "        [[168, 133, 100],\n",
       "         [169, 133, 104],\n",
       "         [169, 134, 101],\n",
       "         ...,\n",
       "         [161, 109,  86],\n",
       "         [166, 124,  95],\n",
       "         [175, 140, 119]],\n",
       "\n",
       "        [[172, 137, 110],\n",
       "         [171, 136, 110],\n",
       "         [172, 137, 108],\n",
       "         ...,\n",
       "         [162,  94,  86],\n",
       "         [168, 127, 105],\n",
       "         [176, 140, 125]],\n",
       "\n",
       "        [[172, 137, 112],\n",
       "         [172, 136, 107],\n",
       "         [172, 138, 108],\n",
       "         ...,\n",
       "         [159,  80,  83],\n",
       "         [174, 135, 123],\n",
       "         [175, 140, 126]]]], dtype=uint8)"
      ]
     },
     "execution_count": 24,
     "metadata": {},
     "output_type": "execute_result"
    }
   ],
   "source": [
    "image_array"
   ]
  },
  {
   "cell_type": "code",
   "execution_count": 25,
   "id": "Sztjs_X5_iP6",
   "metadata": {
    "colab": {
     "base_uri": "https://localhost:8080/"
    },
    "id": "Sztjs_X5_iP6",
    "outputId": "2024fe89-f8c2-495e-8388-a5675ad6f174"
   },
   "outputs": [
    {
     "data": {
      "text/plain": [
       "(10015, 28, 28, 3)"
      ]
     },
     "execution_count": 25,
     "metadata": {},
     "output_type": "execute_result"
    }
   ],
   "source": [
    "image_array.shape"
   ]
  },
  {
   "cell_type": "code",
   "execution_count": 26,
   "id": "uDTEG3TF4OWy",
   "metadata": {
    "id": "uDTEG3TF4OWy"
   },
   "outputs": [],
   "source": [
    "img_label = df['dx']"
   ]
  },
  {
   "cell_type": "code",
   "execution_count": 27,
   "id": "gNZlOfnu9mje",
   "metadata": {
    "id": "gNZlOfnu9mje"
   },
   "outputs": [],
   "source": [
    "image_pixels_2d = image_array.reshape(image_array.shape[0], -1)"
   ]
  },
  {
   "cell_type": "markdown",
   "id": "2a3bacaf",
   "metadata": {},
   "source": [
    "# Sampling"
   ]
  },
  {
   "cell_type": "code",
   "execution_count": 28,
   "id": "LgK0pdlR9xQ3",
   "metadata": {
    "id": "LgK0pdlR9xQ3"
   },
   "outputs": [],
   "source": [
    "from imblearn.over_sampling import RandomOverSampler\n",
    "\n",
    "ros = RandomOverSampler(random_state=42)\n",
    "df_x,df_y = ros.fit_resample(image_pixels_2d, img_label)"
   ]
  },
  {
   "cell_type": "code",
   "execution_count": 29,
   "id": "7-QyoUq8EJRU",
   "metadata": {
    "id": "7-QyoUq8EJRU"
   },
   "outputs": [],
   "source": [
    "df_x= np.array(df_x).reshape(-1,28,28,3)"
   ]
  },
  {
   "cell_type": "code",
   "execution_count": 30,
   "id": "Mm_X6lzJELx1",
   "metadata": {
    "colab": {
     "base_uri": "https://localhost:8080/"
    },
    "id": "Mm_X6lzJELx1",
    "outputId": "148195f5-e70b-42c2-94e5-cf8db3752be1"
   },
   "outputs": [
    {
     "data": {
      "text/plain": [
       "(46935, 28, 28, 3)"
      ]
     },
     "execution_count": 30,
     "metadata": {},
     "output_type": "execute_result"
    }
   ],
   "source": [
    "df_x.shape"
   ]
  },
  {
   "cell_type": "code",
   "execution_count": 31,
   "id": "tuh-BKybG9cT",
   "metadata": {
    "id": "tuh-BKybG9cT"
   },
   "outputs": [],
   "source": [
    "train=df_x\n",
    "test=df_y"
   ]
  },
  {
   "cell_type": "markdown",
   "id": "8a7cf781",
   "metadata": {},
   "source": [
    "## Train, Test Split"
   ]
  },
  {
   "cell_type": "code",
   "execution_count": 32,
   "id": "36sLVE5P4eY6",
   "metadata": {
    "id": "36sLVE5P4eY6"
   },
   "outputs": [],
   "source": [
    "from sklearn.model_selection import train_test_split\n",
    "X_train, X_test, Y_train, Y_test = train_test_split(df_x,df_y, test_size=0.2, random_state=1)"
   ]
  },
  {
   "cell_type": "code",
   "execution_count": 58,
   "id": "C1KJt9v2Egnt",
   "metadata": {
    "colab": {
     "base_uri": "https://localhost:8080/"
    },
    "id": "C1KJt9v2Egnt",
    "outputId": "36b40db5-3c2a-45a0-bbbe-17caa16b965e"
   },
   "outputs": [],
   "source": [
    "np_x_train = np.array(X_train)\n",
    "np_x_test = np.array(X_test)"
   ]
  },
  {
   "cell_type": "code",
   "execution_count": 34,
   "id": "fRZhcBthEglT",
   "metadata": {
    "id": "fRZhcBthEglT"
   },
   "outputs": [],
   "source": [
    "X_train = np.array(np_x_train).reshape(-1,28, 28,3)\n",
    "X_test = np.array(np_x_test).reshape(-1,28, 28,3)\n",
    "Y_train = np.array(Y_train)\n",
    "Y_test = np.array(Y_test)"
   ]
  },
  {
   "cell_type": "code",
   "execution_count": 35,
   "id": "7pfsErUREgiO",
   "metadata": {
    "colab": {
     "base_uri": "https://localhost:8080/"
    },
    "id": "7pfsErUREgiO",
    "outputId": "b4fd4c79-5982-4d7a-e26b-eca13781b865"
   },
   "outputs": [
    {
     "name": "stdout",
     "output_type": "stream",
     "text": [
      "training (37548, 28, 28, 3)\n",
      "(37548,)\n",
      "testing (9387, 28, 28, 3)\n",
      "(9387,)\n"
     ]
    }
   ],
   "source": [
    "print(\"training\",X_train.shape)\n",
    "print(Y_train.shape)\n",
    "print(\"testing\",X_test.shape)\n",
    "print(Y_test.shape)"
   ]
  },
  {
   "cell_type": "markdown",
   "id": "51e4f2d8",
   "metadata": {},
   "source": [
    "## Train, Validation Data Split"
   ]
  },
  {
   "cell_type": "code",
   "execution_count": 36,
   "id": "l8BYBr3dFuSJ",
   "metadata": {
    "id": "l8BYBr3dFuSJ"
   },
   "outputs": [],
   "source": [
    "X_train, X_valid, Y_train, Y_valid = train_test_split(X_train,Y_train, test_size=0.1, random_state=1)"
   ]
  },
  {
   "cell_type": "markdown",
   "id": "9946d6a9",
   "metadata": {},
   "source": [
    "## Augmentaion"
   ]
  },
  {
   "cell_type": "code",
   "execution_count": 37,
   "id": "8IYzpsJLIzF9",
   "metadata": {
    "id": "8IYzpsJLIzF9"
   },
   "outputs": [],
   "source": [
    "from tensorflow.keras.preprocessing.image import ImageDataGenerator\n",
    "\n",
    "# Create an instance of ImageDataGenerator\n",
    "datagen = ImageDataGenerator(\n",
    "    rotation_range=10,\n",
    "    width_shift_range=0.1,\n",
    "    height_shift_range=0.1,\n",
    "    shear_range=0.2,\n",
    "    zoom_range=0.2,\n",
    "    horizontal_flip=True,\n",
    "    fill_mode='nearest'\n",
    ")\n",
    "\n",
    "# Generate augmented images using the ImageDataGenerator\n",
    "train_images = datagen.flow(X_train, Y_train, batch_size=64,)\n"
   ]
  },
  {
   "cell_type": "code",
   "execution_count": 38,
   "id": "288e8376",
   "metadata": {},
   "outputs": [],
   "source": [
    "datagen2 = ImageDataGenerator()"
   ]
  },
  {
   "cell_type": "code",
   "execution_count": 39,
   "id": "UBJjOTMKE1dZ",
   "metadata": {
    "id": "UBJjOTMKE1dZ"
   },
   "outputs": [],
   "source": [
    "text_images = datagen2.flow(X_test, Y_test, batch_size=64,)"
   ]
  },
  {
   "cell_type": "code",
   "execution_count": 40,
   "id": "dn-eGP7DE1a3",
   "metadata": {
    "id": "dn-eGP7DE1a3"
   },
   "outputs": [],
   "source": [
    "valid_images = datagen2.flow(X_valid, Y_valid, batch_size=64,)"
   ]
  },
  {
   "cell_type": "markdown",
   "id": "b65498ee",
   "metadata": {},
   "source": [
    "# Building model"
   ]
  },
  {
   "cell_type": "code",
   "execution_count": 41,
   "id": "3Frxu1ZGE1Yb",
   "metadata": {
    "id": "3Frxu1ZGE1Yb"
   },
   "outputs": [],
   "source": [
    "model = Sequential()\n",
    "model.add(Conv2D(16, kernel_size = (3,3), input_shape = (28, 28, 3), activation = 'relu', padding = 'same'))\n",
    "model.add(MaxPool2D(pool_size = (2,2)))\n",
    "\n",
    "model.add(Conv2D(32, kernel_size = (3,3), activation = 'relu', padding = 'same'))\n",
    "model.add(MaxPool2D(pool_size = (2,2), padding = 'same'))\n",
    "\n",
    "model.add(Conv2D(64, kernel_size = (3,3), activation = 'relu', padding = 'same'))\n",
    "model.add(MaxPool2D(pool_size = (2,2), padding = 'same'))\n",
    "model.add(Conv2D(128, kernel_size = (3,3), activation = 'relu', padding = 'same'))\n",
    "model.add(MaxPool2D(pool_size = (2,2), padding = 'same'))\n",
    "\n",
    "model.add(Flatten())\n",
    "model.add(Dense(64, activation = 'relu'))\n",
    "model.add(Dense(32, activation='relu'))\n",
    "model.add(Dense(7, activation='softmax'))"
   ]
  },
  {
   "cell_type": "code",
   "execution_count": 42,
   "id": "ojuw4kBtRh23",
   "metadata": {
    "id": "ojuw4kBtRh23"
   },
   "outputs": [],
   "source": [
    "\n",
    "optimizer = tf.keras.optimizers.Adam()"
   ]
  },
  {
   "cell_type": "code",
   "execution_count": 43,
   "id": "n4Try6XaE1WF",
   "metadata": {
    "colab": {
     "base_uri": "https://localhost:8080/"
    },
    "id": "n4Try6XaE1WF",
    "outputId": "a8590885-428b-4589-e561-50e7af0c0a48",
    "scrolled": true
   },
   "outputs": [
    {
     "name": "stdout",
     "output_type": "stream",
     "text": [
      "Model: \"sequential\"\n",
      "_________________________________________________________________\n",
      " Layer (type)                Output Shape              Param #   \n",
      "=================================================================\n",
      " conv2d (Conv2D)             (None, 28, 28, 16)        448       \n",
      "                                                                 \n",
      " max_pooling2d (MaxPooling2D  (None, 14, 14, 16)       0         \n",
      " )                                                               \n",
      "                                                                 \n",
      " conv2d_1 (Conv2D)           (None, 14, 14, 32)        4640      \n",
      "                                                                 \n",
      " max_pooling2d_1 (MaxPooling  (None, 7, 7, 32)         0         \n",
      " 2D)                                                             \n",
      "                                                                 \n",
      " conv2d_2 (Conv2D)           (None, 7, 7, 64)          18496     \n",
      "                                                                 \n",
      " max_pooling2d_2 (MaxPooling  (None, 4, 4, 64)         0         \n",
      " 2D)                                                             \n",
      "                                                                 \n",
      " conv2d_3 (Conv2D)           (None, 4, 4, 128)         73856     \n",
      "                                                                 \n",
      " max_pooling2d_3 (MaxPooling  (None, 2, 2, 128)        0         \n",
      " 2D)                                                             \n",
      "                                                                 \n",
      " flatten (Flatten)           (None, 512)               0         \n",
      "                                                                 \n",
      " dense (Dense)               (None, 64)                32832     \n",
      "                                                                 \n",
      " dense_1 (Dense)             (None, 32)                2080      \n",
      "                                                                 \n",
      " dense_2 (Dense)             (None, 7)                 231       \n",
      "                                                                 \n",
      "=================================================================\n",
      "Total params: 132,583\n",
      "Trainable params: 132,583\n",
      "Non-trainable params: 0\n",
      "_________________________________________________________________\n",
      "None\n"
     ]
    }
   ],
   "source": [
    "model.compile(loss = 'sparse_categorical_crossentropy',\n",
    "              optimizer = optimizer,\n",
    "              metrics = ['accuracy'])\n",
    "print(model.summary())"
   ]
  },
  {
   "cell_type": "code",
   "execution_count": 46,
   "id": "3E_0p1PvE1To",
   "metadata": {
    "colab": {
     "base_uri": "https://localhost:8080/"
    },
    "id": "3E_0p1PvE1To",
    "outputId": "f746b701-81cf-4764-a90f-ffcc0e0d3d9b",
    "scrolled": false
   },
   "outputs": [
    {
     "name": "stdout",
     "output_type": "stream",
     "text": [
      "Epoch 1/70\n",
      "529/529 [==============================] - 81s 149ms/step - loss: 1.8868 - accuracy: 0.3576 - val_loss: 1.3045 - val_accuracy: 0.4796\n",
      "Epoch 2/70\n",
      "529/529 [==============================] - 84s 158ms/step - loss: 1.2049 - accuracy: 0.5316 - val_loss: 1.0207 - val_accuracy: 0.6101\n",
      "Epoch 3/70\n",
      "529/529 [==============================] - 81s 153ms/step - loss: 1.0293 - accuracy: 0.6051 - val_loss: 0.9749 - val_accuracy: 0.6165\n",
      "Epoch 4/70\n",
      "529/529 [==============================] - 79s 149ms/step - loss: 1.0237 - accuracy: 0.6076 - val_loss: 0.8760 - val_accuracy: 0.6485\n",
      "Epoch 5/70\n",
      "529/529 [==============================] - 79s 149ms/step - loss: 0.8678 - accuracy: 0.6697 - val_loss: 1.2115 - val_accuracy: 0.5795\n",
      "Epoch 6/70\n",
      "529/529 [==============================] - 61s 116ms/step - loss: 0.8398 - accuracy: 0.6789 - val_loss: 0.7359 - val_accuracy: 0.7116\n",
      "Epoch 7/70\n",
      "529/529 [==============================] - 62s 118ms/step - loss: 0.7517 - accuracy: 0.7075 - val_loss: 0.6913 - val_accuracy: 0.7387\n",
      "Epoch 8/70\n",
      "529/529 [==============================] - 68s 129ms/step - loss: 0.7101 - accuracy: 0.7269 - val_loss: 0.6921 - val_accuracy: 0.7326\n",
      "Epoch 9/70\n",
      "529/529 [==============================] - 66s 125ms/step - loss: 0.7366 - accuracy: 0.7213 - val_loss: 0.6395 - val_accuracy: 0.7513\n",
      "Epoch 10/70\n",
      "529/529 [==============================] - 66s 124ms/step - loss: 0.6422 - accuracy: 0.7541 - val_loss: 0.6148 - val_accuracy: 0.7614\n",
      "Epoch 11/70\n",
      "529/529 [==============================] - 67s 126ms/step - loss: 0.6275 - accuracy: 0.7622 - val_loss: 0.5446 - val_accuracy: 0.7933\n",
      "Epoch 12/70\n",
      "529/529 [==============================] - 67s 127ms/step - loss: 0.6201 - accuracy: 0.7644 - val_loss: 0.5744 - val_accuracy: 0.7808\n",
      "Epoch 13/70\n",
      "529/529 [==============================] - 67s 126ms/step - loss: 0.6178 - accuracy: 0.7666 - val_loss: 0.5367 - val_accuracy: 0.7928\n",
      "Epoch 14/70\n",
      "529/529 [==============================] - 90s 170ms/step - loss: 0.5692 - accuracy: 0.7835 - val_loss: 0.5061 - val_accuracy: 0.8064\n",
      "Epoch 15/70\n",
      "529/529 [==============================] - 80s 151ms/step - loss: 0.5255 - accuracy: 0.8011 - val_loss: 0.4406 - val_accuracy: 0.8325\n",
      "Epoch 16/70\n",
      "529/529 [==============================] - 83s 157ms/step - loss: 0.5153 - accuracy: 0.8037 - val_loss: 0.5555 - val_accuracy: 0.7864\n",
      "Epoch 17/70\n",
      "529/529 [==============================] - 72s 136ms/step - loss: 0.5269 - accuracy: 0.7992 - val_loss: 0.4141 - val_accuracy: 0.8423\n",
      "Epoch 18/70\n",
      "529/529 [==============================] - 37s 69ms/step - loss: 0.4755 - accuracy: 0.8191 - val_loss: 0.4113 - val_accuracy: 0.8423\n",
      "Epoch 19/70\n",
      "529/529 [==============================] - 36s 67ms/step - loss: 0.8691 - accuracy: 0.6752 - val_loss: 0.6423 - val_accuracy: 0.7547\n",
      "Epoch 20/70\n",
      "529/529 [==============================] - 37s 69ms/step - loss: 0.5507 - accuracy: 0.7909 - val_loss: 0.4101 - val_accuracy: 0.8474\n",
      "Epoch 21/70\n",
      "529/529 [==============================] - 33s 63ms/step - loss: 0.4532 - accuracy: 0.8280 - val_loss: 0.4198 - val_accuracy: 0.8394\n",
      "Epoch 22/70\n",
      "529/529 [==============================] - 35s 67ms/step - loss: 0.4548 - accuracy: 0.8272 - val_loss: 0.4348 - val_accuracy: 0.8346\n",
      "Epoch 23/70\n",
      "529/529 [==============================] - 34s 64ms/step - loss: 0.4292 - accuracy: 0.8374 - val_loss: 0.4072 - val_accuracy: 0.8506\n",
      "Epoch 24/70\n",
      "529/529 [==============================] - 33s 62ms/step - loss: 0.4271 - accuracy: 0.8385 - val_loss: 0.3346 - val_accuracy: 0.8762\n",
      "Epoch 25/70\n",
      "529/529 [==============================] - 33s 62ms/step - loss: 0.3984 - accuracy: 0.8490 - val_loss: 0.3932 - val_accuracy: 0.8519\n",
      "Epoch 26/70\n",
      "529/529 [==============================] - 34s 63ms/step - loss: 0.3886 - accuracy: 0.8531 - val_loss: 0.3153 - val_accuracy: 0.8786\n",
      "Epoch 27/70\n",
      "529/529 [==============================] - 33s 62ms/step - loss: 0.3900 - accuracy: 0.8543 - val_loss: 0.3107 - val_accuracy: 0.8868\n",
      "Epoch 28/70\n",
      "529/529 [==============================] - 33s 62ms/step - loss: 0.3814 - accuracy: 0.8570 - val_loss: 0.3260 - val_accuracy: 0.8775\n",
      "Epoch 29/70\n",
      "529/529 [==============================] - 34s 64ms/step - loss: 0.3719 - accuracy: 0.8610 - val_loss: 0.3041 - val_accuracy: 0.8921\n",
      "Epoch 30/70\n",
      "529/529 [==============================] - 33s 63ms/step - loss: 0.3584 - accuracy: 0.8647 - val_loss: 0.3370 - val_accuracy: 0.8775\n",
      "Epoch 31/70\n",
      "529/529 [==============================] - 32s 61ms/step - loss: 0.3530 - accuracy: 0.8658 - val_loss: 0.3625 - val_accuracy: 0.8652\n",
      "Epoch 32/70\n",
      "529/529 [==============================] - 33s 61ms/step - loss: 0.3544 - accuracy: 0.8688 - val_loss: 0.3510 - val_accuracy: 0.8775\n",
      "Epoch 33/70\n",
      "529/529 [==============================] - 32s 60ms/step - loss: 0.3563 - accuracy: 0.8673 - val_loss: 0.3324 - val_accuracy: 0.8764\n",
      "Epoch 34/70\n",
      "529/529 [==============================] - 33s 63ms/step - loss: 0.3325 - accuracy: 0.8750 - val_loss: 0.2771 - val_accuracy: 0.8921\n",
      "Epoch 35/70\n",
      "529/529 [==============================] - 33s 62ms/step - loss: 0.3875 - accuracy: 0.8569 - val_loss: 0.2833 - val_accuracy: 0.8980\n",
      "Epoch 36/70\n",
      "529/529 [==============================] - 35s 66ms/step - loss: 0.3231 - accuracy: 0.8796 - val_loss: 0.3163 - val_accuracy: 0.8831\n",
      "Epoch 37/70\n",
      "529/529 [==============================] - 35s 66ms/step - loss: 0.3167 - accuracy: 0.8820 - val_loss: 0.2918 - val_accuracy: 0.8903\n",
      "Epoch 38/70\n",
      "529/529 [==============================] - 33s 61ms/step - loss: 0.3163 - accuracy: 0.8813 - val_loss: 0.2310 - val_accuracy: 0.9148\n",
      "Epoch 39/70\n",
      "529/529 [==============================] - 40s 76ms/step - loss: 0.3013 - accuracy: 0.8887 - val_loss: 0.2613 - val_accuracy: 0.8983\n",
      "Epoch 40/70\n",
      "529/529 [==============================] - 39s 73ms/step - loss: 0.3011 - accuracy: 0.8870 - val_loss: 0.2771 - val_accuracy: 0.9079\n",
      "Epoch 41/70\n",
      "529/529 [==============================] - 35s 65ms/step - loss: 0.3010 - accuracy: 0.8889 - val_loss: 0.2115 - val_accuracy: 0.9260\n",
      "Epoch 42/70\n",
      "529/529 [==============================] - 34s 63ms/step - loss: 0.3069 - accuracy: 0.8868 - val_loss: 0.2377 - val_accuracy: 0.9182\n",
      "Epoch 43/70\n",
      "529/529 [==============================] - 34s 65ms/step - loss: 0.2876 - accuracy: 0.8922 - val_loss: 0.2386 - val_accuracy: 0.9087\n",
      "Epoch 44/70\n",
      "529/529 [==============================] - 34s 64ms/step - loss: 0.2987 - accuracy: 0.8890 - val_loss: 0.3209 - val_accuracy: 0.8804\n",
      "Epoch 45/70\n",
      "529/529 [==============================] - 34s 64ms/step - loss: 0.2851 - accuracy: 0.8941 - val_loss: 0.2229 - val_accuracy: 0.9158\n",
      "Epoch 46/70\n",
      "529/529 [==============================] - 34s 65ms/step - loss: 0.2915 - accuracy: 0.8930 - val_loss: 0.2332 - val_accuracy: 0.9164\n",
      "Epoch 47/70\n",
      "529/529 [==============================] - 35s 66ms/step - loss: 0.2639 - accuracy: 0.9022 - val_loss: 0.2085 - val_accuracy: 0.9268\n",
      "Epoch 48/70\n",
      "529/529 [==============================] - 34s 64ms/step - loss: 0.2748 - accuracy: 0.8974 - val_loss: 0.2268 - val_accuracy: 0.9158\n",
      "Epoch 49/70\n",
      "529/529 [==============================] - 33s 61ms/step - loss: 0.2708 - accuracy: 0.9025 - val_loss: 0.2314 - val_accuracy: 0.9137\n",
      "Epoch 50/70\n",
      "529/529 [==============================] - 34s 64ms/step - loss: 0.3063 - accuracy: 0.8894 - val_loss: 0.9172 - val_accuracy: 0.6972\n",
      "Epoch 51/70\n",
      "529/529 [==============================] - 38s 71ms/step - loss: 0.3085 - accuracy: 0.8860 - val_loss: 0.2056 - val_accuracy: 0.9212\n",
      "Epoch 52/70\n",
      "529/529 [==============================] - 31s 59ms/step - loss: 0.2623 - accuracy: 0.9016 - val_loss: 0.2571 - val_accuracy: 0.9126\n",
      "Epoch 53/70\n",
      "529/529 [==============================] - 32s 60ms/step - loss: 0.2495 - accuracy: 0.9075 - val_loss: 0.2144 - val_accuracy: 0.9209\n",
      "Epoch 54/70\n",
      "529/529 [==============================] - 31s 59ms/step - loss: 0.3208 - accuracy: 0.8847 - val_loss: 0.6127 - val_accuracy: 0.7838\n",
      "Epoch 55/70\n",
      "529/529 [==============================] - 31s 59ms/step - loss: 0.2988 - accuracy: 0.8885 - val_loss: 0.2148 - val_accuracy: 0.9193\n",
      "Epoch 56/70\n",
      "529/529 [==============================] - 31s 58ms/step - loss: 0.2417 - accuracy: 0.9094 - val_loss: 0.2625 - val_accuracy: 0.9063\n",
      "Epoch 57/70\n"
     ]
    },
    {
     "name": "stdout",
     "output_type": "stream",
     "text": [
      "529/529 [==============================] - 32s 61ms/step - loss: 0.2387 - accuracy: 0.9127 - val_loss: 0.2152 - val_accuracy: 0.9190\n",
      "Epoch 58/70\n",
      "529/529 [==============================] - 31s 59ms/step - loss: 0.2387 - accuracy: 0.9130 - val_loss: 0.2249 - val_accuracy: 0.9172\n",
      "Epoch 59/70\n",
      "529/529 [==============================] - 35s 66ms/step - loss: 0.2503 - accuracy: 0.9087 - val_loss: 0.2276 - val_accuracy: 0.9166\n",
      "Epoch 60/70\n",
      "529/529 [==============================] - 32s 60ms/step - loss: 0.2450 - accuracy: 0.9077 - val_loss: 0.2019 - val_accuracy: 0.9193\n",
      "Epoch 61/70\n",
      "529/529 [==============================] - 33s 63ms/step - loss: 0.2384 - accuracy: 0.9136 - val_loss: 0.2121 - val_accuracy: 0.9209\n",
      "Epoch 62/70\n",
      "529/529 [==============================] - 31s 58ms/step - loss: 0.2504 - accuracy: 0.9092 - val_loss: 0.2569 - val_accuracy: 0.9121\n",
      "Epoch 63/70\n",
      "529/529 [==============================] - 32s 60ms/step - loss: 0.2328 - accuracy: 0.9150 - val_loss: 0.1880 - val_accuracy: 0.9326\n",
      "Epoch 64/70\n",
      "529/529 [==============================] - 31s 59ms/step - loss: 0.2243 - accuracy: 0.9178 - val_loss: 0.2378 - val_accuracy: 0.9145\n",
      "Epoch 65/70\n",
      "529/529 [==============================] - 33s 63ms/step - loss: 0.2347 - accuracy: 0.9143 - val_loss: 0.1743 - val_accuracy: 0.9390\n",
      "Epoch 66/70\n",
      "529/529 [==============================] - 32s 60ms/step - loss: 0.2410 - accuracy: 0.9131 - val_loss: 0.1865 - val_accuracy: 0.9340\n",
      "Epoch 67/70\n",
      "529/529 [==============================] - 34s 65ms/step - loss: 0.2445 - accuracy: 0.9127 - val_loss: 0.2113 - val_accuracy: 0.9222\n",
      "Epoch 68/70\n",
      "529/529 [==============================] - 33s 62ms/step - loss: 0.2126 - accuracy: 0.9208 - val_loss: 0.1934 - val_accuracy: 0.9313\n",
      "Epoch 69/70\n",
      "529/529 [==============================] - 32s 60ms/step - loss: 0.2133 - accuracy: 0.9226 - val_loss: 0.2399 - val_accuracy: 0.9198\n",
      "Epoch 70/70\n",
      "529/529 [==============================] - 35s 66ms/step - loss: 0.2220 - accuracy: 0.9189 - val_loss: 0.1918 - val_accuracy: 0.9337\n"
     ]
    }
   ],
   "source": [
    "history = model.fit(train_images, epochs=70, validation_data=valid_images  )\n"
   ]
  },
  {
   "cell_type": "markdown",
   "id": "236b3b9c",
   "metadata": {},
   "source": [
    "# Model Evaluation"
   ]
  },
  {
   "cell_type": "code",
   "execution_count": 47,
   "id": "KMk_V-bnOZzv",
   "metadata": {
    "colab": {
     "base_uri": "https://localhost:8080/"
    },
    "id": "KMk_V-bnOZzv",
    "outputId": "e00a6853-45d8-41fd-9302-5a2e43718863"
   },
   "outputs": [
    {
     "name": "stdout",
     "output_type": "stream",
     "text": [
      "147/147 [==============================] - 2s 16ms/step - loss: 0.1915 - accuracy: 0.9336\n"
     ]
    },
    {
     "data": {
      "text/plain": [
       "[0.19146865606307983, 0.9336315989494324]"
      ]
     },
     "execution_count": 47,
     "metadata": {},
     "output_type": "execute_result"
    }
   ],
   "source": [
    "model.evaluate(text_images)"
   ]
  },
  {
   "cell_type": "code",
   "execution_count": 48,
   "id": "2daeacef",
   "metadata": {},
   "outputs": [],
   "source": [
    "  model.save('skin_1_model.h5')"
   ]
  },
  {
   "cell_type": "code",
   "execution_count": 49,
   "id": "6fa0bb55",
   "metadata": {},
   "outputs": [
    {
     "data": {
      "image/png": "[encoded data removed]",
      "text/plain": [
       "<Figure size 640x480 with 1 Axes>"
      ]
     },
     "metadata": {},
     "output_type": "display_data"
    }
   ],
   "source": [
    "plt.plot(history.history['loss'])\n",
    "plt.plot(history.history['val_loss'])\n",
    "plt.title('Model Loss')\n",
    "plt.ylabel('Loss')\n",
    "plt.xlabel('Epoch')\n",
    "plt.legend(['train','test'],loc='upper left')\n",
    "plt.show()"
   ]
  },
  {
   "cell_type": "code",
   "execution_count": 50,
   "id": "b4be40d0",
   "metadata": {},
   "outputs": [
    {
     "data": {
      "image/png": "[encoded data removed]",
      "text/plain": [
       "<Figure size 640x480 with 1 Axes>"
      ]
     },
     "metadata": {},
     "output_type": "display_data"
    }
   ],
   "source": [
    "plt.plot(history.history['accuracy'])\n",
    "plt.plot(history.history['val_accuracy'])\n",
    "plt.title('Model Accuracy')\n",
    "plt.ylabel('Accuracy')\n",
    "plt.xlabel('Epoch')\n",
    "plt.legend(['train','test'],loc='upper left')\n",
    "plt.show()"
   ]
  }
 ],
 "metadata": {
  "colab": {
   "provenance": []
  },
  "kernelspec": {
   "display_name": "Python 3 (ipykernel)",
   "language": "python",
   "name": "python3"
  },
  "language_info": {
   "codemirror_mode": {
    "name": "ipython",
    "version": 3
   },
   "file_extension": ".py",
   "mimetype": "text/x-python",
   "name": "python",
   "nbconvert_exporter": "python",
   "pygments_lexer": "ipython3",
   "version": "3.9.13"
  }
 },
 "nbformat": 4,
 "nbformat_minor": 5
}
